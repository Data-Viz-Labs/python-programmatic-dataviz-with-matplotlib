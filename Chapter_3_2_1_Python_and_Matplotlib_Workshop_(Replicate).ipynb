{
  "cells": [
    {
      "cell_type": "markdown",
      "id": "0ac8f699",
      "metadata": {
        "id": "0ac8f699"
      },
      "source": [
        "## Exercise 1:  Replicate a graph\n",
        "\n",
        "Try to reproduce the reference image as accurately as possible. To do so, use the supplied code as well as the instructions in the comments.\n",
        "Only use functions from the previously loaded libraries."
      ]
    },
    {
      "cell_type": "markdown",
      "id": "79bbb749",
      "metadata": {
        "id": "79bbb749"
      },
      "source": [
        "![Reference image](https://github.com/Data-Viz-Labs/python-programmatic-dataviz-with-matplotlib/blob/main/assets/matplotlib_replicar.png?raw=true \"Reference image\")"
      ]
    },
    {
      "cell_type": "code",
      "execution_count": null,
      "id": "1ae54365",
      "metadata": {
        "id": "1ae54365"
      },
      "outputs": [],
      "source": [
        "# Dependencies\n",
        "import numpy as np\n",
        "import matplotlib.pyplot as plt\n",
        "import matplotlib.lines as mlines"
      ]
    },
    {
      "cell_type": "code",
      "execution_count": null,
      "id": "dd3d0740",
      "metadata": {
        "colab": {
          "base_uri": "https://localhost:8080/",
          "height": 430
        },
        "id": "dd3d0740",
        "outputId": "98d4a196-b5ba-4124-93fe-c2ff1dc58511"
      },
      "outputs": [
        {
          "output_type": "display_data",
          "data": {
            "text/plain": [
              "<Figure size 640x480 with 1 Axes>"
            ],
            "image/png": "[encoded data removed]"
          },
          "metadata": {}
        }
      ],
      "source": [
        "# Print function\n",
        "x = np.linspace(-5, 5, 1000)\n",
        "y = 0.25 *(x+4)* (x+2) * (x-3)\n",
        "\n",
        "# Generate a plot\n",
        "plt.plot(x,y, linewidth=3)\n",
        "plt.axis ([-8,8,-20,35])\n",
        "\n",
        "# Adjust axis\n",
        "# Hint: Required to put 6 to obtain a list from -5 to 5\n",
        "\n",
        "\n",
        "# Print green axis\n",
        "\n",
        "\n",
        "# print roots (red starts)\n",
        "\n",
        "\n",
        "# print annotations\n",
        "\n",
        "\n",
        "# Print legend\n",
        "# Hint: to print the * in the legend we change the color of the line to white\n",
        "\n",
        "\n",
        "# Don't forget to render :)\n",
        "plt.show()"
      ]
    }
  ],
  "metadata": {
    "kernelspec": {
      "display_name": "Python 3 (ipykernel)",
      "language": "python",
      "name": "python3"
    },
    "language_info": {
      "codemirror_mode": {
        "name": "ipython",
        "version": 3
      },
      "file_extension": ".py",
      "mimetype": "text/x-python",
      "name": "python",
      "nbconvert_exporter": "python",
      "pygments_lexer": "ipython3",
      "version": "3.9.16"
    },
    "colab": {
      "provenance": []
    }
  },
  "nbformat": 4,
  "nbformat_minor": 5
}