{
  "nbformat": 4,
  "nbformat_minor": 0,
  "metadata": {
    "colab": {
      "provenance": []
    },
    "kernelspec": {
      "name": "python3",
      "display_name": "Python 3"
    },
    "language_info": {
      "name": "python"
    }
  },
  "cells": [
    {
      "cell_type": "markdown",
      "source": [
        "# Tableau-alike\n",
        "\n",
        "Do you remember?\n",
        "![Cat vs Sales Graph](https://raw.githubusercontent.com/Data-Viz-Labs/python-programmatic-dataviz-with-matplotlib/refs/heads/main/assets/tableau_CatVsSales.png)\n"
      ],
      "metadata": {
        "id": "HcfVv_h3Y1H5"
      }
    },
    {
      "cell_type": "code",
      "execution_count": 1,
      "metadata": {
        "id": "Vi3qnpOOUCqd"
      },
      "outputs": [],
      "source": [
        "import pandas as pd\n",
        "import matplotlib.pyplot as plt\n",
        "import numpy as np"
      ]
    },
    {
      "cell_type": "markdown",
      "source": [
        "✋✋✋✋✋✋✋✋✋✋✋✋✋✋✋✋\n",
        "\n",
        "BEFORE RUN THE NEXT CELL, please upload the dataset to files section or update the path\n",
        "\n",
        "✋✋✋✋✋✋✋✋✋✋✋✋✋✋✋✋"
      ],
      "metadata": {
        "id": "97mwBklpat8M"
      }
    },
    {
      "cell_type": "code",
      "source": [
        "# Read the Excel file\n",
        "# Make sure the file 'Sample  Superstore.xls' is in your working directory\n",
        "df = pd.read_excel('/content/Sample - Superstore.xls', sheet_name='Orders')"
      ],
      "metadata": {
        "id": "4iCggPQQUFAE"
      },
      "execution_count": 2,
      "outputs": []
    },
    {
      "cell_type": "code",
      "source": [
        "# Convert Order Date to datetime and extract year\n",
        "df['Order Date'] = pd.to_datetime(df['Order Date'])\n",
        "df['Year'] = df['Order Date'].dt.year\n",
        "\n",
        "# Group the data by Year and Category\n",
        "sales_by_year_cat = df.groupby(['Year', 'Category'])['Sales'].sum().reset_index()"
      ],
      "metadata": {
        "id": "WQkHBLN-UFIW"
      },
      "execution_count": 3,
      "outputs": []
    },
    {
      "cell_type": "code",
      "source": [
        "# Prepare the data for plotting\n",
        "categories = ['Furniture', 'Office Supplies', 'Technology']\n",
        "years = sorted(sales_by_year_cat['Year'].unique())\n",
        "x = np.arange(len(categories))\n",
        "width = 0.2"
      ],
      "metadata": {
        "id": "jtzFopNEUFNl"
      },
      "execution_count": 4,
      "outputs": []
    },
    {
      "cell_type": "code",
      "source": [
        "# Set up the plot\n",
        "plt.figure(figsize=(12, 6))\n",
        "plt.style.use('classic')  # Using classic style instead of seaborn\n",
        "\n",
        "# Colors for each year (using standard matplotlib colors)\n",
        "#colors = ['#1f77b4', '#ff7f0e', '#2ca02c', '#d62728']"
      ],
      "metadata": {
        "colab": {
          "base_uri": "https://localhost:8080/",
          "height": 34
        },
        "id": "_j48IuQBUFQd",
        "outputId": "e4f8ab8f-42f5-4413-f8d8-725a5c30779f"
      },
      "execution_count": 5,
      "outputs": [
        {
          "output_type": "display_data",
          "data": {
            "text/plain": [
              "<Figure size 1200x600 with 0 Axes>"
            ]
          },
          "metadata": {}
        }
      ]
    },
    {
      "cell_type": "code",
      "source": [
        "# Create bars for each year\n",
        "for i, year in enumerate(years):\n",
        "    year_data = sales_by_year_cat[sales_by_year_cat['Year'] == year]\n",
        "\n",
        "    # Ensure data is in the same order as categories\n",
        "    year_data = year_data.set_index('Category').reindex(categories).reset_index()\n",
        "\n",
        "    # Calculate bar positions\n",
        "    offset = width * (i - len(years)/2 + 0.5)\n",
        "\n",
        "    # Create bars\n",
        "    bars = plt.bar(x + offset,\n",
        "                  year_data['Sales'],\n",
        "                  width,\n",
        "                  label=str(year),\n",
        "                  color='blue')\n",
        "\n",
        "    # Add value labels on top of bars\n",
        "    for bar in bars:\n",
        "        height = bar.get_height()\n",
        "        plt.text(bar.get_x() + bar.get_width()/2.,\n",
        "                height,\n",
        "                f'£{height:,.0f}',\n",
        "                ha='center',\n",
        "                va='bottom',\n",
        "                fontsize=8)\n",
        "\n",
        "# Customize the plot\n",
        "plt.xlabel('Category', fontsize=10, labelpad=10)\n",
        "plt.ylabel('Sales', fontsize=10, labelpad=10)\n",
        "plt.title('Sales by Category and Year', fontsize=12)\n",
        "\n",
        "# Set x-axis ticks\n",
        "plt.xticks(x, categories)\n",
        "\n",
        "# Add grid with light gray color\n",
        "plt.grid(True, linestyle='--', alpha=0.7, color='gray', axis='y')\n",
        "\n",
        "# Adjust layout to prevent label cutoff\n",
        "plt.tight_layout()\n",
        "\n",
        "# Show plot\n",
        "plt.show()\n",
        "\n",
        "# Optional: Save the plot\n",
        "# plt.savefig('superstore_sales.png', dpi=300, bbox_inches='tight')"
      ],
      "metadata": {
        "colab": {
          "base_uri": "https://localhost:8080/",
          "height": 484
        },
        "id": "NF6BQRKnUFTb",
        "outputId": "931c7d67-97f2-43c3-a8c0-d91ee2bf8d3e"
      },
      "execution_count": 6,
      "outputs": [
        {
          "output_type": "display_data",
          "data": {
            "text/plain": [
              "<Figure size 640x480 with 1 Axes>"
            ],
            "image/png": "[encoded data removed]"
          },
          "metadata": {}
        }
      ]
    },
    {
      "cell_type": "markdown",
      "source": [
        "## An now... try one of these:\n",
        "\n",
        "\n",
        "![Challenge](https://raw.githubusercontent.com/Data-Viz-Labs/python-programmatic-dataviz-with-matplotlib/refs/heads/main/assets/tableau_Challenge.png)\n"
      ],
      "metadata": {
        "id": "6NTxN5DoZPJj"
      }
    },
    {
      "cell_type": "code",
      "source": [],
      "metadata": {
        "id": "wot6TtaQad_O"
      },
      "execution_count": 6,
      "outputs": []
    }
  ]
}