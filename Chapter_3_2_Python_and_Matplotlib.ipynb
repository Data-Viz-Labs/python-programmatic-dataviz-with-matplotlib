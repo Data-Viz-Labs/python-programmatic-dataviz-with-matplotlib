{
  "nbformat": 4,
  "nbformat_minor": 0,
  "metadata": {
    "colab": {
      "provenance": []
    },
    "kernelspec": {
      "name": "python3",
      "display_name": "Python 3"
    },
    "language_info": {
      "name": "python"
    }
  },
  "cells": [
    {
      "cell_type": "markdown",
      "source": [
        "# Matplotlib\n",
        "\n",
        "Required dependencies:\n",
        "\n",
        "```bash\n",
        "matplotlib==3.10.0\n",
        "matplotlib-inline==0.1.7\n",
        "matplotlib-venn==1.1.1\n",
        "numpy==1.26.4\n",
        "pandas-datareader==0.10.0\n",
        "yfinance==0.2.52\n",
        "```\n"
      ],
      "metadata": {
        "id": "-Bqnw2PnCeGx"
      }
    },
    {
      "cell_type": "code",
      "source": [
        "!pip freeze | grep -e numpy -e matplotlib -e pandas-datareader -e yfinance"
      ],
      "metadata": {
        "id": "rrxusHmefhVp"
      },
      "execution_count": null,
      "outputs": []
    },
    {
      "cell_type": "code",
      "execution_count": null,
      "metadata": {
        "id": "mp1q63q3e2X7"
      },
      "outputs": [],
      "source": [
        "%matplotlib inline\n",
        "import matplotlib.pyplot as plt\n",
        "import numpy as np\n",
        "import pandas as pd\n",
        "\n",
        "from matplotlib.ticker import NullFormatter         # useful for `logit` scale\n",
        "\n",
        "from matplotlib import rcParams, cycler             # Required for custom legends\n",
        "from matplotlib.lines import Line2D                 # required for custom legends\n",
        "\n",
        "import yfinance as yf                               # required for timeseries data\n",
        "from datetime import datetime, timedelta            # required for timeseries data\n",
        "\n",
        "from mpl_toolkits.mplot3d import Axes3D             # required for PCA over MINST (matplotlib in 3D)\n",
        "from sklearn.datasets import load_digits            # required for PCA over MINST\n",
        "from sklearn import datasets, svm, metrics          # required for PCA\n",
        "from sklearn.decomposition import PCA               # required for PCA"
      ]
    },
    {
      "cell_type": "markdown",
      "source": [
        "## Initial Sample Graph"
      ],
      "metadata": {
        "id": "dSwVaJ9Ng7np"
      }
    },
    {
      "cell_type": "code",
      "source": [
        "# Obtain the data\n",
        "x = np.linspace(0, 2, 100)\n",
        "\n",
        "# Add the data to the figure\n",
        "plt.plot(x, x, label='linear')\n",
        "plt.plot(x, x**2, label='quadratic')\n",
        "plt.plot(x, x**3, label='cubic')\n",
        "\n",
        "# Add aestethics\n",
        "plt.title(\"Simple Plot\")\n",
        "plt.xlabel('x label')\n",
        "plt.ylabel('y label')\n",
        "plt.legend()\n",
        "\n",
        "# Render\n",
        "plt.show()"
      ],
      "metadata": {
        "id": "i7qjYsTBfGAN"
      },
      "execution_count": null,
      "outputs": []
    },
    {
      "cell_type": "markdown",
      "source": [
        "## Functional vs Object Oriented"
      ],
      "metadata": {
        "id": "iwsXTE2qhBXW"
      }
    },
    {
      "cell_type": "code",
      "source": [
        "x = np.linspace(0,10,100)\n",
        "y = x**2"
      ],
      "metadata": {
        "id": "Nx3z9C5mg2Q4"
      },
      "execution_count": null,
      "outputs": []
    },
    {
      "cell_type": "code",
      "source": [
        "# Functional Style (MATLAB)\n",
        "\n",
        "plt.plot(x,y,'r')\n",
        "\n",
        "plt.xlabel(\"X Label\")\n",
        "plt.ylabel(\"Y Label\")\n",
        "plt.title(\"X vs Y\")\n",
        "\n",
        "plt.show()"
      ],
      "metadata": {
        "id": "KehwrOrRgqdn"
      },
      "execution_count": null,
      "outputs": []
    },
    {
      "cell_type": "code",
      "source": [
        "# Object Oriented\n",
        "\n",
        "fig = plt.figure()\n",
        "axes = fig.add_axes([0.1,0.1,0.8,0.8])\n",
        "\n",
        "axes.plot(x,y)\n",
        "\n",
        "axes.set_xlabel(\"X Label\")\n",
        "axes.set_ylabel(\"Y Label\")\n",
        "axes.set_title(\"X vs Y\")\n",
        "\n",
        "fig.show() # NOT NEEDED\n"
      ],
      "metadata": {
        "id": "edx1lQ-gf5T5"
      },
      "execution_count": null,
      "outputs": []
    },
    {
      "cell_type": "markdown",
      "source": [
        "## Reuse code through functions"
      ],
      "metadata": {
        "id": "EENW9q8_iMGN"
      }
    },
    {
      "cell_type": "code",
      "source": [
        "def my_plotter(ax, data1, data2, param_dict):\n",
        "    \"\"\"\n",
        "    A helper function to make a graph\n",
        "\n",
        "    Parameters\n",
        "    ----------\n",
        "    ax : Axes\n",
        "        The axes to draw to\n",
        "\n",
        "    data1 : array\n",
        "       The x data\n",
        "\n",
        "    data2 : array\n",
        "       The y data\n",
        "\n",
        "    param_dict : dict\n",
        "       Dictionary of kwargs to pass to ax.plot\n",
        "\n",
        "    Returns\n",
        "    -------\n",
        "    out : list\n",
        "        list of artists added\n",
        "    \"\"\"\n",
        "    out = ax.plot(data1, data2, **param_dict)\n",
        "    return out"
      ],
      "metadata": {
        "id": "SbsJEIpeiSWk"
      },
      "execution_count": null,
      "outputs": []
    },
    {
      "cell_type": "code",
      "source": [
        "data1, data2, data3, data4 = np.random.randn(4, 100)\n",
        "fig, (ax1, ax2) = plt.subplots(1, 2)\n",
        "my_plotter(ax1, data1, data2, {'marker': 'x'})\n",
        "my_plotter(ax2, data3, data4, {'marker': 'o'})"
      ],
      "metadata": {
        "id": "eABMdSvqiaoj"
      },
      "execution_count": null,
      "outputs": []
    },
    {
      "cell_type": "markdown",
      "source": [
        "## Play with Marks & Keywords"
      ],
      "metadata": {
        "id": "iT7sfVrdigo8"
      }
    },
    {
      "cell_type": "code",
      "source": [
        "# evenly sampled time at 200ms intervals\n",
        "t = np.arange(0., 5., 0.2)\n",
        "# red dashes, blue squares and green triangles\n",
        "plt.plot(t, t, 'r--', t, t**2, 'bs', t, t**3, 'g^')\n",
        "plt.show()"
      ],
      "metadata": {
        "id": "pp3aHV_1iqGW"
      },
      "execution_count": null,
      "outputs": []
    },
    {
      "cell_type": "code",
      "source": [
        "data = {'a': np.arange(50),\n",
        "        'c': np.random.randint(0, 50, 50),\n",
        "        'd': np.random.randn(50)}\n",
        "\n",
        "data['b'] = data['a'] + 10 * np.random.randn(50)\n",
        "data['d'] = np.abs(data['d']) * 100\n",
        "\n",
        "plt.scatter('a', 'b', c='c', s='d', data=data)\n",
        "plt.xlabel('entry a')\n",
        "plt.ylabel('entry b')\n",
        "plt.show()"
      ],
      "metadata": {
        "id": "lLDgJi53iptv"
      },
      "execution_count": null,
      "outputs": []
    },
    {
      "cell_type": "markdown",
      "source": [
        "Plotting Categorical Variables"
      ],
      "metadata": {
        "id": "reGaUmdmjpkf"
      }
    },
    {
      "cell_type": "code",
      "source": [
        "names = ['group_a', 'group_b', 'group_c']\n",
        "values = [1, 10, 100]\n",
        "\n",
        "plt.figure(1, figsize=(12, 4))\n",
        "\n",
        "plt.suptitle('Categorical Plotting')\n",
        "plt.subplot(131)\n",
        "plt.bar(names, values)\n",
        "\n",
        "plt.subplot(132)\n",
        "plt.scatter(names, values)\n",
        "\n",
        "plt.subplot(133)\n",
        "plt.plot(names, values)\n",
        "\n",
        "plt.show()"
      ],
      "metadata": {
        "id": "CbedZwKhjvmC"
      },
      "execution_count": null,
      "outputs": []
    },
    {
      "cell_type": "markdown",
      "source": [
        "Working with Lines"
      ],
      "metadata": {
        "id": "THPau6YbjwZ5"
      }
    },
    {
      "cell_type": "code",
      "source": [
        "lines = plt.plot([1, 2, 3])"
      ],
      "metadata": {
        "id": "HbcgKSkVjwgk"
      },
      "execution_count": null,
      "outputs": []
    },
    {
      "cell_type": "markdown",
      "source": [
        "## Working with multiple axes"
      ],
      "metadata": {
        "id": "Qt5UWn1Rjwl1"
      }
    },
    {
      "cell_type": "code",
      "source": [
        "def f(t):\n",
        "    return np.exp(-t) * np.cos(2*np.pi*t)\n",
        "\n",
        "t1 = np.arange(0.0, 5.0, 0.1)\n",
        "t2 = np.arange(0.0, 5.0, 0.02)\n",
        "\n",
        "plt.figure(1)\n",
        "plt.subplot(211)\n",
        "plt.plot(t1, f(t1), 'bo', t2, f(t2), 'k')\n",
        "\n",
        "plt.subplot(212)\n",
        "plt.plot(t2, np.cos(2*np.pi*t2), 'r--')\n",
        "plt.show()"
      ],
      "metadata": {
        "id": "KbsvypiRjwqb"
      },
      "execution_count": null,
      "outputs": []
    },
    {
      "cell_type": "markdown",
      "source": [
        "## Figures & Subplots"
      ],
      "metadata": {
        "id": "rLW1tzxajwuL"
      }
    },
    {
      "cell_type": "code",
      "source": [
        "# plt.subplot(abc)\n",
        "#   a = número de filas\n",
        "#   b = número de columnas\n",
        "#   c = número del subplot actual (empezando por 1)\n",
        "\n",
        "# 2x2 grid\n",
        "plt.figure(1)                # the first figure\n",
        "plt.subplot(221)  # Arriba izquierda\n",
        "plt.subplot(222)  # Arriba derecha\n",
        "plt.plot([1, 2, 3])\n",
        "plt.subplot(223)  # Abajo izquierda\n",
        "plt.subplot(224)  # Abajo derecha\n",
        "\n",
        "# 3x1 vertical\n",
        "plt.figure(2)                # the first figure\n",
        "plt.subplot(311)  # Primer plot\n",
        "plt.subplot(312)  # Segundo plot\n",
        "plt.subplot(313)  # Tercer plot\n",
        "plt.plot([13, 2, 3])"
      ],
      "metadata": {
        "id": "lDSKQW-sIhtI"
      },
      "execution_count": null,
      "outputs": []
    },
    {
      "cell_type": "code",
      "source": [
        "plt.figure(1)                # the first figure\n",
        "plt.subplot(211)             # the first subplot in the first figure\n",
        "plt.plot([1, 2, 3])\n",
        "plt.subplot(212)             # the second subplot in the first figure\n",
        "plt.plot([4, 5, 6])\n",
        "\n",
        "plt.figure(2)                # a second figure\n",
        "plt.plot([4, 5, 6])          # creates a subplot(111) by default\n",
        "\n",
        "plt.figure(1)                # figure 1 current; subplot(212) still current\n",
        "plt.subplot(211)             # make subplot(211) in figure1 current\n",
        "plt.title('Easy as 1, 2, 3') # subplot 211 title"
      ],
      "metadata": {
        "id": "oWNmvAt3oz8w"
      },
      "execution_count": null,
      "outputs": []
    },
    {
      "cell_type": "code",
      "source": [
        "plt.figure(1)                # the first figure\n",
        "plt.subplot(211)             # the first subplot in the first figure\n",
        "plt.plot([1, 2, 3])\n",
        "plt.subplot(212)             # the second subplot in the first figure\n",
        "plt.plot([4, 5, 6])\n",
        "\n",
        "plt.figure(2)                # a second figure\n",
        "plt.plot([4, 5, 6])          # creates a subplot(111) by default\n",
        "\n",
        "plt.figure(1)                # figure 1 current; subplot(212) still current\n",
        "plt.subplot(211)             # make subplot(211) in figure1 current\n",
        "plt.title('Easy as 1, 2, 3') # subplot 211 title"
      ],
      "metadata": {
        "id": "jHKnsBPejw5l"
      },
      "execution_count": null,
      "outputs": []
    },
    {
      "cell_type": "code",
      "source": [
        "# Crear la figura y los subplots en una cuadrícula 4x4\n",
        "fig, axes = plt.subplots(4, 4, figsize=(12, 12))\n",
        "\n",
        "# Generar algunos datos de ejemplo\n",
        "x = np.linspace(0, 10, 100)\n",
        "\n",
        "# Iterar sobre cada subplot\n",
        "for i in range(4):\n",
        "    for j in range(4):\n",
        "        # Crear diferentes gráficas para cada subplot\n",
        "        axes[i,j].plot(x, np.sin(x + i))  # seno\n",
        "        axes[i,j].plot(x, np.cos(x + j))  # coseno\n",
        "        axes[i,j].scatter(x, x**2)        # scatter plot\n",
        "        axes[i,j].plot(x, np.exp(x/5))    # exponencial\n",
        "\n",
        "        axes[i,j].set_title(f'Plot {i+1},{j+1}')\n",
        "        axes[i,j].set_xlabel('X')\n",
        "        axes[i,j].set_ylabel('Y')\n",
        "\n",
        "# Ajustar el espaciado entre subplots\n",
        "plt.tight_layout()\n",
        "\n",
        "# Mostrar la figura\n",
        "plt.show()"
      ],
      "metadata": {
        "id": "5044ggRipJqg"
      },
      "execution_count": null,
      "outputs": []
    },
    {
      "cell_type": "markdown",
      "source": [
        "## Adding text to the figure"
      ],
      "metadata": {
        "id": "RQLLxaoAjw9I"
      }
    },
    {
      "cell_type": "code",
      "source": [
        "mu, sigma = 100, 15\n",
        "x = mu + sigma * np.random.randn(10000)\n",
        "\n",
        "# the histogram of the data\n",
        "n, bins, patches = plt.hist(x, 50, density=1, facecolor='g', alpha=0.75)\n",
        "\n",
        "plt.xlabel('Smarts')\n",
        "plt.ylabel('Probability')\n",
        "plt.title('Histogram of IQ')\n",
        "plt.text(60, .025, r'$\\mu=100,\\ \\sigma=15$')\n",
        "plt.axis([40, 160, 0, 0.03])\n",
        "plt.grid(True)\n",
        "plt.show()"
      ],
      "metadata": {
        "id": "O2buYpkKjxAi"
      },
      "execution_count": null,
      "outputs": []
    },
    {
      "cell_type": "markdown",
      "source": [
        "Adding annotations"
      ],
      "metadata": {
        "id": "u4ennh_MjxF2"
      }
    },
    {
      "cell_type": "code",
      "source": [
        "ax = plt.subplot(111)\n",
        "\n",
        "t = np.arange(0.0, 5.0, 0.01)\n",
        "s = np.cos(2*np.pi*t)\n",
        "line, = plt.plot(t, s, lw=2)\n",
        "\n",
        "plt.annotate('local max',\n",
        "             xy=(2, 1),\n",
        "             xytext=(3, 1.5),\n",
        "             arrowprops=dict(facecolor='black', shrink=0.05))\n",
        "\n",
        "plt.ylim(-2, 2)\n",
        "plt.show()"
      ],
      "metadata": {
        "id": "7XmKw1lJjxKM"
      },
      "execution_count": null,
      "outputs": []
    },
    {
      "cell_type": "markdown",
      "source": [
        "## Type of Axes\n",
        "\n",
        "```python\n",
        "# plt.yscale('linear')     # Escala lineal\n",
        "# plt.yscale('log')        # Escala logarítmica\n",
        "# plt.yscale('symlog')     # Escala logarítmica simétrica\n",
        "# plt.yscale('logit')      # Escala logística\n",
        "```"
      ],
      "metadata": {
        "id": "SeIBj6gT6yMP"
      }
    },
    {
      "cell_type": "code",
      "source": [
        "# Fixing random state for reproducibility\n",
        "np.random.seed(19680801)\n",
        "\n",
        "# make up some data in the interval ]0, 1[\n",
        "y = np.random.normal(loc=0.5, scale=0.4, size=1000)  # np.random.normal(mean, std, size)\n",
        "y = y[(y > 0) & (y < 1)]\n",
        "y.sort()\n",
        "x = np.arange(len(y)) # to generate the X axis\n",
        "\n",
        "# plot with various axes scales\n",
        "plt.figure(1)\n",
        "\n",
        "# linear\n",
        "plt.subplot(221)\n",
        "plt.plot(x, y)\n",
        "plt.yscale('linear')\n",
        "plt.title('linear')\n",
        "plt.grid(True)\n",
        "\n",
        "# log\n",
        "plt.subplot(222)\n",
        "plt.plot(x, y)\n",
        "plt.yscale('log')\n",
        "plt.title('log')\n",
        "plt.grid(True)\n",
        "\n",
        "# symmetric log\n",
        "plt.subplot(223)\n",
        "plt.plot(x, y - y.mean())\n",
        "plt.yscale('symlog', linthresh=0.01)\n",
        "plt.title('symlog')\n",
        "plt.grid(True)\n",
        "\n",
        "# logit\n",
        "plt.subplot(224)\n",
        "plt.plot(x, y)\n",
        "plt.yscale('logit')\n",
        "plt.title('logit')\n",
        "plt.grid(True)\n",
        "# Format the minor tick labels of the y-axis to avoid too many labels.\n",
        "plt.gca().yaxis.set_minor_formatter(NullFormatter())\n",
        "# Adjust the subplot layout, because the logit one may take more space\n",
        "# than usual, due to y-tick labels like \"1 - 10^{-3}\"\n",
        "\n",
        "plt.subplots_adjust(top=1.2, bottom=0.08, left=0.10, right=0.95, hspace=0.25, wspace=0.35)\n",
        "\n",
        "plt.show()"
      ],
      "metadata": {
        "id": "loJ1kA5V6xD8"
      },
      "execution_count": null,
      "outputs": []
    },
    {
      "cell_type": "markdown",
      "source": [
        "## Custom Legends"
      ],
      "metadata": {
        "id": "4yI_Xr8rjxNu"
      }
    },
    {
      "cell_type": "code",
      "source": [
        "# Fixing random state for reproducibility\n",
        "np.random.seed(19680801)\n",
        "\n",
        "N = 10\n",
        "data = [np.logspace(0, 1, 100) + np.random.randn(100) + ii for ii in range(N)]\n",
        "data = np.array(data).T\n",
        "cmap = plt.cm.coolwarm\n",
        "rcParams['axes.prop_cycle'] = cycler(color=cmap(np.linspace(0, 1, N)))\n",
        "\n",
        "fig, ax = plt.subplots()\n",
        "lines = ax.plot(data)\n",
        "ax.legend()"
      ],
      "metadata": {
        "id": "hmpEYB9sjxRY"
      },
      "execution_count": null,
      "outputs": []
    },
    {
      "cell_type": "code",
      "source": [
        "# Adding a legend by each serie\n",
        "fig, ax = plt.subplots()\n",
        "lines = ax.plot(data)\n",
        "ax.legend(lines, ['l1','l2','l3','l4','l5','l6','l7','l8','l9','l10'])"
      ],
      "metadata": {
        "id": "9BsVNiR09Icg"
      },
      "execution_count": null,
      "outputs": []
    },
    {
      "cell_type": "code",
      "source": [
        "# Using a custom object (Line2D) we can generate a tailored legend\n",
        "custom_lines = [Line2D([0], [0], color=cmap(0.), linewidth=4),\n",
        "                Line2D([0], [0], color=cmap(.5), linewidth=4),\n",
        "                Line2D([0], [0], color=cmap(1.), linewidth=4)]\n",
        "\n",
        "fig, ax = plt.subplots()\n",
        "lines = ax.plot(data)\n",
        "ax.legend(custom_lines, ['Cold', 'Medium', 'Hot'])"
      ],
      "metadata": {
        "id": "5ipdGich9OG1"
      },
      "execution_count": null,
      "outputs": []
    },
    {
      "cell_type": "markdown",
      "source": [
        "## Line Plot"
      ],
      "metadata": {
        "id": "PGDTltS76HMs"
      }
    },
    {
      "cell_type": "code",
      "source": [
        "import matplotlib\n",
        "import matplotlib.pyplot as plt\n",
        "import numpy as np\n",
        "\n",
        "# Data for plotting\n",
        "t = np.arange(0.0, 2.0, 0.01)\n",
        "s = 1 + np.sin(2 * np.pi * t)\n",
        "\n",
        "fig, ax = plt.subplots()\n",
        "ax.plot(t, s)\n",
        "\n",
        "ax.set(xlabel='time (s)', ylabel='voltage (mV)', title='Example of Line Plot')\n",
        "ax.grid()\n",
        "plt.show()"
      ],
      "metadata": {
        "id": "9BEHMQIU6HSl"
      },
      "execution_count": null,
      "outputs": []
    },
    {
      "cell_type": "markdown",
      "source": [
        "## Histograms"
      ],
      "metadata": {
        "id": "PDblK8_36HZ3"
      }
    },
    {
      "cell_type": "code",
      "source": [
        "np.random.seed(19680801)\n",
        "\n",
        "# example data\n",
        "mu = 100  # mean of distribution\n",
        "sigma = 15  # standard deviation of distribution\n",
        "x = mu + sigma * np.random.randn(437)\n",
        "\n",
        "fig, ax = plt.subplots()\n",
        "\n",
        "# the histogram of the data\n",
        "num_bins = 50\n",
        "n, bins, patches = ax.hist(x, num_bins, density=1)\n",
        "\n",
        "# add a 'best fit' line applying the Gaussian formula\n",
        "y = ((1 / (np.sqrt(2 * np.pi) * sigma)) * np.exp(-0.5 * ((bins - mu)/ sigma )**2))\n",
        "\n",
        "ax.plot(bins, y, '--r')\n",
        "ax.set_xlabel('Smarts')\n",
        "ax.set_ylabel('Probability density')\n",
        "ax.set_title(r'Histogram of IQ: $\\mu=100$, $\\sigma=15$')\n",
        "\n",
        "# Tweak spacing to prevent clipping of ylabel\n",
        "fig.tight_layout()\n",
        "plt.show()"
      ],
      "metadata": {
        "id": "KfBVmeO66HgF"
      },
      "execution_count": null,
      "outputs": []
    },
    {
      "cell_type": "markdown",
      "source": [
        "## Bar charts"
      ],
      "metadata": {
        "id": "gHN7b5pO6Hmv"
      }
    },
    {
      "cell_type": "code",
      "source": [
        "# Credit: Josh Hemann\n",
        "\n",
        "n_groups = 5\n",
        "means_men = (20, 35, 30, 35, 27)\n",
        "std_men = (2, 3, 4, 1, 2)\n",
        "\n",
        "means_women = (25, 32, 34, 20, 25)\n",
        "std_women = (3, 5, 2, 3, 3)\n",
        "\n",
        "fig, ax = plt.subplots()\n",
        "\n",
        "index = np.arange(n_groups)\n",
        "bar_width = 0.35\n",
        "\n",
        "opacity = 0.4\n",
        "error_config = {'ecolor': '0.3'}\n",
        "\n",
        "rects1 = ax.bar(index, means_men, bar_width,\n",
        "                alpha=opacity, color='b',\n",
        "                yerr=std_men, error_kw=error_config,\n",
        "                label='Men')\n",
        "\n",
        "rects2 = ax.bar(index + bar_width, means_women, bar_width,\n",
        "                alpha=opacity, color='r',\n",
        "                yerr=std_women, error_kw=error_config,\n",
        "                label='Women')\n",
        "\n",
        "ax.set_xlabel('Group')\n",
        "ax.set_ylabel('Scores')\n",
        "ax.set_title('Scores by group and gender')\n",
        "ax.set_xticks(index + bar_width / 2)\n",
        "ax.set_xticklabels(('A', 'B', 'C', 'D', 'E'))\n",
        "ax.legend()\n",
        "\n",
        "fig.tight_layout()\n",
        "plt.show()"
      ],
      "metadata": {
        "id": "ojQmUB6H6Htn"
      },
      "execution_count": null,
      "outputs": []
    },
    {
      "cell_type": "markdown",
      "source": [
        "## Pie charts"
      ],
      "metadata": {
        "id": "9iJ7OdO26H1e"
      }
    },
    {
      "cell_type": "code",
      "source": [
        "# Pie chart, where the slices will be ordered and plotted counter-clockwise:\n",
        "labels = 'Frogs', 'Hogs', 'Dogs', 'Logs'\n",
        "sizes = [15, 30, 45, 10]\n",
        "explode = (0, 0.1, 0, 0)  # only \"explode\" the 2nd slice (i.e. 'Hogs')\n",
        "\n",
        "fig1, ax1 = plt.subplots()\n",
        "ax1.pie(sizes,\n",
        "        explode=explode,\n",
        "        labels=labels,\n",
        "        autopct='%1.1f%%',\n",
        "        shadow=True,\n",
        "        startangle=90)\n",
        "\n",
        "ax1.axis('equal')  # Equal aspect ratio ensures that pie is drawn as a circle.\n",
        "\n",
        "plt.show()"
      ],
      "metadata": {
        "id": "eg1HLghZ6H7p"
      },
      "execution_count": null,
      "outputs": []
    },
    {
      "cell_type": "markdown",
      "source": [
        "## Scatter plot"
      ],
      "metadata": {
        "id": "XpD_qdcK6ICL"
      }
    },
    {
      "cell_type": "code",
      "source": [
        "# Fixing random state for reproducibility\n",
        "np.random.seed(19680801)\n",
        "\n",
        "N = 50\n",
        "x = np.random.rand(N)\n",
        "y = np.random.rand(N)\n",
        "colors = np.random.rand(N)\n",
        "area = (30 * np.random.rand(N))**2  # 0 to 15 point radii\n",
        "\n",
        "plt.scatter(x, y, s=area, c=colors, alpha=0.5)\n",
        "plt.show()"
      ],
      "metadata": {
        "id": "Cp2Brw1Y6IHs"
      },
      "execution_count": null,
      "outputs": []
    },
    {
      "cell_type": "markdown",
      "source": [
        "## Time series"
      ],
      "metadata": {
        "id": "EXLvG4X06IN4"
      }
    },
    {
      "cell_type": "code",
      "source": [
        "# Grab the data with yahoo_finance\n",
        "\n",
        "ticker = 'NVDA' # TSLA MSFT AAPL\n",
        "end_date = datetime.today().strftime('%Y-%m-%d')\n",
        "start_date = (datetime.today() - timedelta(days=5*365)).strftime('%Y-%m-%d')\n",
        "panel_data = yf.download(ticker, start=start_date, end=end_date)"
      ],
      "metadata": {
        "id": "u6gVKceH6IUG"
      },
      "execution_count": null,
      "outputs": []
    },
    {
      "cell_type": "code",
      "source": [
        "# Prepare & Salt the data\n",
        "close = panel_data['Close']\n",
        "all_weekdays = pd.date_range(start=start_date, end=end_date, freq='B') # business day frecuency\n",
        "\n",
        "close = close.reindex(all_weekdays)\n",
        "close = close.fillna(method='ffill')\n",
        "close.head()"
      ],
      "metadata": {
        "id": "KKYrBb9fJBy1"
      },
      "execution_count": null,
      "outputs": []
    },
    {
      "cell_type": "code",
      "source": [
        "# Add another series with rolling mean\n",
        "ticker_close = close.loc[:, ticker]\n",
        "short_rolling_ticker = ticker_close.rolling(window=20).mean()\n",
        "long_rolling_ticker = ticker_close.rolling(window=100).mean()"
      ],
      "metadata": {
        "id": "E0XPlRIZIAFQ"
      },
      "execution_count": null,
      "outputs": []
    },
    {
      "cell_type": "code",
      "source": [
        "fig, ax = plt.subplots(figsize=(16,9))\n",
        "\n",
        "ax.plot(ticker_close.index, ticker_close, label=ticker)\n",
        "ax.plot(short_rolling_ticker.index, short_rolling_ticker, label='20 days rolling',color=\"red\")\n",
        "ax.plot(long_rolling_ticker.index, long_rolling_ticker, label='100 days rolling',color=\"magenta\")\n",
        "\n",
        "ax.set_xlabel('Date')\n",
        "ax.set_ylabel('Adjusted closing price ($)')\n",
        "ax.legend()\n",
        "plt.show()"
      ],
      "metadata": {
        "id": "tTpXWmrXIAMv"
      },
      "execution_count": null,
      "outputs": []
    },
    {
      "cell_type": "markdown",
      "source": [
        "## Annotated heatmaps"
      ],
      "metadata": {
        "id": "gwYuyyK56IaT"
      }
    },
    {
      "cell_type": "code",
      "source": [
        "# sphinx_gallery_thumbnail_number = 2\n",
        "vegetables = [\"cucumber\", \"tomato\", \"lettuce\", \"asparagus\",\n",
        "              \"potato\", \"wheat\", \"barley\"]\n",
        "farmers = [\"Farmer Joe\", \"Upland Bros.\", \"Smith Gardening\",\n",
        "           \"Agrifun\", \"Organiculture\", \"BioGoods Ltd.\", \"Cornylee Corp.\"]\n",
        "\n",
        "harvest = np.array([[0.8, 2.4, 2.5, 3.9, 0.0, 4.0, 0.0],\n",
        "                    [2.4, 0.0, 4.0, 1.0, 2.7, 0.0, 0.0],\n",
        "                    [1.1, 2.4, 0.8, 4.3, 1.9, 4.4, 0.0],\n",
        "                    [0.6, 0.0, 0.3, 0.0, 3.1, 0.0, 0.0],\n",
        "                    [0.7, 1.7, 0.6, 2.6, 2.2, 6.2, 0.0],\n",
        "                    [1.3, 1.2, 0.0, 0.0, 0.0, 3.2, 5.1],\n",
        "                    [0.1, 2.0, 0.0, 1.4, 0.0, 1.9, 6.3]])\n",
        "\n",
        "fig, ax = plt.subplots()\n",
        "im = ax.imshow(harvest)"
      ],
      "metadata": {
        "id": "WNQfaUOr6Ig9"
      },
      "execution_count": null,
      "outputs": []
    },
    {
      "cell_type": "code",
      "source": [
        "# Now show all ticks and labels\n",
        "fig, ax = plt.subplots()\n",
        "im = ax.imshow(harvest)\n",
        "ax.set_xticks(np.arange(len(farmers)))\n",
        "ax.set_yticks(np.arange(len(vegetables)))\n",
        "ax.set_xticklabels(farmers)\n",
        "ax.set_yticklabels(vegetables)"
      ],
      "metadata": {
        "id": "qBp-DfAcAku_"
      },
      "execution_count": null,
      "outputs": []
    },
    {
      "cell_type": "code",
      "source": [
        "# Rotate labels\n",
        "fig, ax = plt.subplots()\n",
        "im = ax.imshow(harvest)\n",
        "ax.set_xticks(np.arange(len(farmers)))\n",
        "ax.set_yticks(np.arange(len(vegetables)))\n",
        "ax.set_xticklabels(farmers)\n",
        "ax.set_yticklabels(vegetables)\n",
        "_=plt.setp(ax.get_xticklabels(), rotation=45, ha=\"right\",rotation_mode=\"anchor\")"
      ],
      "metadata": {
        "id": "guqs2W9KAk27"
      },
      "execution_count": null,
      "outputs": []
    },
    {
      "cell_type": "code",
      "source": [
        "# Create annotations\n",
        "fig, ax = plt.subplots()\n",
        "im = ax.imshow(harvest)\n",
        "ax.set_xticks(np.arange(len(farmers)))\n",
        "ax.set_yticks(np.arange(len(vegetables)))\n",
        "ax.set_xticklabels(farmers)\n",
        "ax.set_yticklabels(vegetables)\n",
        "_=plt.setp(ax.get_xticklabels(), rotation=45, ha=\"right\",rotation_mode=\"anchor\")\n",
        "\n",
        "# Loop over data dimensions and create text annotations.\n",
        "for i in range(len(vegetables)):\n",
        "    for j in range(len(farmers)):\n",
        "        text = ax.text(j, i, harvest[i, j],\n",
        "                       ha=\"center\", va=\"center\", color=\"w\")\n",
        "\n",
        "ax.set_title(\"Harvest of local farmers (in tons/year)\")\n",
        "fig.tight_layout()\n",
        "plt.show()"
      ],
      "metadata": {
        "id": "iSOs4VaRAwqK"
      },
      "execution_count": null,
      "outputs": []
    },
    {
      "cell_type": "markdown",
      "source": [
        "## Interpolating images"
      ],
      "metadata": {
        "id": "_6abmHNi6IoP"
      }
    },
    {
      "cell_type": "markdown",
      "source": [
        "The final result shows the same random matrix displayed with three different interpolation methods, side by side. The difference between the methods is how they smooth or render the image:\n",
        "\n",
        "* Nearest: keeps pixels square (more pixelated).\n",
        "* Bilinear: smooths using linear interpolation\n",
        "* Bicubic: smooth using cubic interpolation (generally smoother)"
      ],
      "metadata": {
        "id": "Tz8WSc-mBOkx"
      }
    },
    {
      "cell_type": "code",
      "source": [
        "A = np.random.rand(5, 5)\n",
        "\n",
        "plt.figure(figsize=(10, 3))\n",
        "count=1\n",
        "for interp in ['nearest', 'bilinear', 'bicubic']:\n",
        "    plt.subplot(1,3,count)\n",
        "    plt.imshow(A, interpolation=interp)\n",
        "    plt.title(interp.capitalize())\n",
        "    plt.grid(True)\n",
        "    count+=1\n",
        "\n",
        "plt.show()"
      ],
      "metadata": {
        "id": "z89wme8w6Iv4"
      },
      "execution_count": null,
      "outputs": []
    },
    {
      "cell_type": "markdown",
      "source": [
        "## Pie charts on Polar Axis"
      ],
      "metadata": {
        "id": "Zdm510rF6I3b"
      }
    },
    {
      "cell_type": "code",
      "source": [
        "# Compute pie slices\n",
        "N = 20\n",
        "theta = np.linspace(0.0, 2 * np.pi, N, endpoint=False)\n",
        "radii = 10 * np.random.rand(N)\n",
        "width = np.pi / 4 * np.random.rand(N)\n",
        "\n",
        "plt.subplot(111, projection='polar')\n",
        "plt.bar(theta, radii, width=width, bottom=0.0)\n",
        "\n",
        "plt.show()"
      ],
      "metadata": {
        "id": "Zt9BEdM_6I_5"
      },
      "execution_count": null,
      "outputs": []
    },
    {
      "cell_type": "code",
      "source": [
        "# Compute pie slices\n",
        "N = 20\n",
        "theta = np.linspace(0.0, 2 * np.pi, N, endpoint=False)\n",
        "radii = 10 * np.random.rand(N)\n",
        "width = np.pi / 4 * np.random.rand(N)\n",
        "\n",
        "ax = plt.subplot(111, projection='polar')\n",
        "bars = ax.bar(theta, radii, width=width, bottom=0.0)\n",
        "\n",
        "# Use custom colors and opacity\n",
        "for r, bar in zip(radii, bars):\n",
        "    bar.set_facecolor(plt.cm.viridis(r / 10.))\n",
        "    bar.set_alpha(0.5)\n",
        "\n",
        "plt.show()"
      ],
      "metadata": {
        "id": "01uHax5W_6-S"
      },
      "execution_count": null,
      "outputs": []
    },
    {
      "cell_type": "markdown",
      "source": [
        "## Stack Plot"
      ],
      "metadata": {
        "id": "zjOsCFOL6JJb"
      }
    },
    {
      "cell_type": "code",
      "source": [
        "x = [1, 2, 3, 4, 5]\n",
        "y1 = [1, 1, 2, 3, 5]\n",
        "y2 = [0, 4, 2, 6, 8]\n",
        "y3 = [1, 3, 5, 7, 9]\n",
        "\n",
        "y = np.vstack([y1, y2, y3])\n",
        "\n",
        "labels = [\"Fibonacci \", \"Evens\", \"Odds\"]\n",
        "\n",
        "plt.stackplot(x, y1, y2, y3, labels=labels)\n",
        "plt.legend(loc='upper left')\n",
        "plt.show()"
      ],
      "metadata": {
        "id": "wK7JKFKw6JZQ"
      },
      "execution_count": null,
      "outputs": []
    },
    {
      "cell_type": "markdown",
      "source": [
        "## PCA on Matplotlib\n",
        "\n"
      ],
      "metadata": {
        "id": "XMiV5Pji6Jfq"
      }
    },
    {
      "cell_type": "code",
      "source": [
        "# Load and show the dataset (with sci-kit learn)\n",
        "digits = datasets.load_digits()\n",
        "\n",
        "number_digits = len(np.unique(digits.target))\n",
        "print (\"There are \",str(number_digits),\" different digits\")"
      ],
      "metadata": {
        "id": "GdmyrvjYJvih"
      },
      "execution_count": null,
      "outputs": []
    },
    {
      "cell_type": "code",
      "source": [
        "# Figure size (width, height) in inches\n",
        "fig = plt.figure(figsize=(6, 6))\n",
        "\n",
        "# Adjust the subplots\n",
        "fig.subplots_adjust(left=0, right=1, bottom=0, top=1, hspace=0.05, wspace=0.05)\n",
        "\n",
        "# For each of the 64 images\n",
        "for i in range(64):\n",
        "    # Initialize the subplots: add a subplot in the grid of 8 by 8, at the i+1-th position\n",
        "    ax = fig.add_subplot(8, 8, i + 1, xticks=[], yticks=[])\n",
        "    # Display an image at the i-th position\n",
        "    ax.imshow(digits.images[i], cmap=plt.cm.binary, interpolation='nearest')\n",
        "    # label the image with the target value\n",
        "    ax.text(0, 7, str(digits.target[i]))\n",
        "\n",
        "# Show the plot\n",
        "plt.show()"
      ],
      "metadata": {
        "id": "S0vO6RIV6Jkt"
      },
      "execution_count": null,
      "outputs": []
    },
    {
      "cell_type": "code",
      "source": [
        "# Create a regular PCA model\n",
        "pca = PCA(n_components=2)\n",
        "\n",
        "# Fit and transform the data to the model\n",
        "reduced_data_pca = pca.fit_transform(digits.data)\n",
        "\n",
        "# Print out the data\n",
        "print (\"Projected data: \", reduced_data_pca.shape)\n",
        "colors = ['black', 'blue', 'purple', 'yellow', 'white', 'red', 'lime', 'cyan', 'orange', 'gray']\n",
        "\n",
        "for i in range(len(colors)):\n",
        "    x = reduced_data_pca[:, 0][digits.target == i]\n",
        "    y = reduced_data_pca[:, 1][digits.target == i]\n",
        "    plt.scatter(x, y, c=colors[i])\n",
        "plt.legend(digits.target_names, bbox_to_anchor=(1.05, 1), loc=2, borderaxespad=0.)\n",
        "plt.xlabel('First Principal Component')\n",
        "plt.ylabel('Second Principal Component')\n",
        "plt.title(\"PCA Scatter Plot\")\n",
        "plt.show()"
      ],
      "metadata": {
        "id": "cU9WFHLcJv1J"
      },
      "execution_count": null,
      "outputs": []
    },
    {
      "cell_type": "code",
      "source": [
        "# Apply PCA with 3 componentes\n",
        "pca = PCA(n_components=3)\n",
        "reduced_data_pca = pca.fit_transform(digits.data)\n",
        "\n",
        "# Generate datavisualization\n",
        "plt.figure(figsize=(12, 8))\n",
        "ax = plt.axes(projection='3d')\n",
        "colors = ['black', 'blue', 'purple', 'yellow', 'gray', 'red', 'lime', 'cyan', 'orange', 'brown']\n",
        "\n",
        "for i in range(len(colors)):\n",
        "    x = reduced_data_pca[:, 0][digits.target == i]\n",
        "    y = reduced_data_pca[:, 1][digits.target == i]\n",
        "    z = reduced_data_pca[:, 2][digits.target == i]\n",
        "    ax.scatter(x, y, z, c=colors[i], label=str(i))\n",
        "\n",
        "plt.legend(bbox_to_anchor=(1.05, 1), loc='upper left')\n",
        "ax.set_xlabel('First Principal Component')\n",
        "ax.set_ylabel('Second Principal Component')\n",
        "ax.set_zlabel('Third Principal Component')\n",
        "plt.title(\"PCA Scatter Plot\")\n",
        "plt.tight_layout()\n",
        "plt.show()"
      ],
      "metadata": {
        "id": "zACL33BUJwG6"
      },
      "execution_count": null,
      "outputs": []
    }
  ]
}